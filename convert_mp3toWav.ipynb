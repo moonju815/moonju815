{
  "nbformat": 4,
  "nbformat_minor": 0,
  "metadata": {
    "colab": {
      "provenance": [],
      "authorship_tag": "ABX9TyN6Ypss7LdTHDZfdZ2PurQV",
      "include_colab_link": true
    },
    "kernelspec": {
      "name": "python3",
      "display_name": "Python 3"
    },
    "language_info": {
      "name": "python"
    }
  },
  "cells": [
    {
      "cell_type": "markdown",
      "metadata": {
        "id": "view-in-github",
        "colab_type": "text"
      },
      "source": [
        "<a href=\"https://colab.research.google.com/github/moonju815/moonju815/blob/main/convert_mp3toWav.ipynb\" target=\"_parent\"><img src=\"https://colab.research.google.com/assets/colab-badge.svg\" alt=\"Open In Colab\"/></a>"
      ]
    },
    {
      "cell_type": "code",
      "execution_count": 1,
      "metadata": {
        "colab": {
          "base_uri": "https://localhost:8080/"
        },
        "id": "juhXjig3LUYP",
        "outputId": "743ab7b1-165e-45f4-89f3-1e886e6780c5"
      },
      "outputs": [
        {
          "output_type": "stream",
          "name": "stdout",
          "text": [
            "Requirement already satisfied: flask in /usr/local/lib/python3.11/dist-packages (3.1.0)\n",
            "Collecting pydub\n",
            "  Downloading pydub-0.25.1-py2.py3-none-any.whl.metadata (1.4 kB)\n",
            "Requirement already satisfied: Werkzeug>=3.1 in /usr/local/lib/python3.11/dist-packages (from flask) (3.1.3)\n",
            "Requirement already satisfied: Jinja2>=3.1.2 in /usr/local/lib/python3.11/dist-packages (from flask) (3.1.6)\n",
            "Requirement already satisfied: itsdangerous>=2.2 in /usr/local/lib/python3.11/dist-packages (from flask) (2.2.0)\n",
            "Requirement already satisfied: click>=8.1.3 in /usr/local/lib/python3.11/dist-packages (from flask) (8.1.8)\n",
            "Requirement already satisfied: blinker>=1.9 in /usr/local/lib/python3.11/dist-packages (from flask) (1.9.0)\n",
            "Requirement already satisfied: MarkupSafe>=2.0 in /usr/local/lib/python3.11/dist-packages (from Jinja2>=3.1.2->flask) (3.0.2)\n",
            "Downloading pydub-0.25.1-py2.py3-none-any.whl (32 kB)\n",
            "Installing collected packages: pydub\n",
            "Successfully installed pydub-0.25.1\n"
          ]
        }
      ],
      "source": [
        "pip install flask pydub"
      ]
    },
    {
      "cell_type": "code",
      "source": [
        "from flask import Flask, request, send_from_directory, render_template_string\n",
        "from pydub import AudioSegment\n",
        "import os\n",
        "from werkzeug.utils import secure_filename\n",
        "\n",
        "app = Flask(__name__)\n",
        "\n",
        "UPLOAD_FOLDER = 'uploads'\n",
        "CONVERTED_FOLDER = 'converted'\n",
        "os.makedirs(UPLOAD_FOLDER, exist_ok=True)\n",
        "os.makedirs(CONVERTED_FOLDER, exist_ok=True)\n",
        "\n",
        "app.config['UPLOAD_FOLDER'] = UPLOAD_FOLDER\n",
        "app.config['CONVERTED_FOLDER'] = CONVERTED_FOLDER\n",
        "\n",
        "HTML_PAGE = '''\n",
        "<!doctype html>\n",
        "<title>MP3 to WAV 변환기</title>\n",
        "<h1>MP3 파일 업로드해서 WAV로 변환</h1>\n",
        "<form method=post enctype=multipart/form-data>\n",
        "  <input type=file name=file accept=\".mp3\">\n",
        "  <input type=submit value=\"변환\">\n",
        "</form>\n",
        "{% if download_url %}\n",
        "  <p>✅ 변환 완료! <a href=\"{{ download_url }}\">여기서 다운로드</a></p>\n",
        "{% endif %}\n",
        "'''\n",
        "\n",
        "@app.route('/', methods=['GET', 'POST'])\n",
        "def upload_file():\n",
        "    download_url = None\n",
        "    if request.method == 'POST':\n",
        "        file = request.files['file']\n",
        "        if file.filename.endswith('.mp3'):\n",
        "            filename = secure_filename(file.filename)\n",
        "            mp3_path = os.path.join(app.config['UPLOAD_FOLDER'], filename)\n",
        "            file.save(mp3_path)\n",
        "\n",
        "            wav_filename = filename.rsplit('.', 1)[0] + '.wav'\n",
        "            wav_path = os.path.join(app.config['CONVERTED_FOLDER'], wav_filename)\n",
        "\n",
        "            sound = AudioSegment.from_mp3(mp3_path)\n",
        "            sound.export(wav_path, format='wav')\n",
        "\n",
        "            download_url = f'/download/{wav_filename}'\n",
        "\n",
        "    return render_template_string(HTML_PAGE, download_url=download_url)\n",
        "\n",
        "@app.route('/download/<filename>')\n",
        "def download_file(filename):\n",
        "    return send_from_directory(app.config['CONVERTED_FOLDER'], filename, as_attachment=True)\n",
        "\n",
        "if __name__ == '__main__':\n",
        "    app.run(debug=True)\n"
      ],
      "metadata": {
        "colab": {
          "base_uri": "https://localhost:8080/"
        },
        "id": "u7TmFZm0LsFu",
        "outputId": "e1d2da65-2f28-4d94-8cc8-620fd5274d62"
      },
      "execution_count": 2,
      "outputs": [
        {
          "output_type": "stream",
          "name": "stdout",
          "text": [
            " * Serving Flask app '__main__'\n",
            " * Debug mode: on\n"
          ]
        },
        {
          "output_type": "stream",
          "name": "stderr",
          "text": [
            "INFO:werkzeug:\u001b[31m\u001b[1mWARNING: This is a development server. Do not use it in a production deployment. Use a production WSGI server instead.\u001b[0m\n",
            " * Running on http://127.0.0.1:5000\n",
            "INFO:werkzeug:\u001b[33mPress CTRL+C to quit\u001b[0m\n",
            "INFO:werkzeug: * Restarting with stat\n"
          ]
        }
      ]
    },
    {
      "cell_type": "code",
      "source": [
        "!pip install flask pyngrok pydub\n",
        "\n",
        "from flask import Flask, request, send_file, render_template_string\n",
        "from pydub import AudioSegment\n",
        "from pyngrok import ngrok\n",
        "import os\n",
        "from werkzeug.utils import secure_filename\n",
        "\n",
        "app = Flask(__name__)\n",
        "\n",
        "UPLOAD_FOLDER = '/content/uploads'\n",
        "CONVERTED_FOLDER = '/content/converted'\n",
        "os.makedirs(UPLOAD_FOLDER, exist_ok=True)\n",
        "os.makedirs(CONVERTED_FOLDER, exist_ok=True)\n",
        "\n",
        "HTML_PAGE = '''\n",
        "<!doctype html>\n",
        "<title>MP3 to WAV 변환기</title>\n",
        "<h1>MP3 파일 업로드해서 WAV로 변환</h1>\n",
        "<form method=post enctype=multipart/form-data>\n",
        "  <input type=file name=file accept=\".mp3\">\n",
        "  <input type=submit value=\"변환\">\n",
        "</form>\n",
        "{% if download_url %}\n",
        "  <p>✅ 변환 완료! <a href=\"{{ download_url }}\">여기서 다운로드</a></p>\n",
        "{% endif %}\n",
        "'''\n",
        "\n",
        "@app.route('/', methods=['GET', 'POST'])\n",
        "def upload_file():\n",
        "    download_url = None\n",
        "    if request.method == 'POST':\n",
        "        file = request.files['file']\n",
        "        if file and file.filename.endswith('.mp3'):\n",
        "            filename = secure_filename(file.filename)\n",
        "            mp3_path = os.path.join(UPLOAD_FOLDER, filename)\n",
        "            file.save(mp3_path)\n",
        "\n",
        "            wav_filename = filename.rsplit('.', 1)[0] + '.wav'\n",
        "            wav_path = os.path.join(CONVERTED_FOLDER, wav_filename)\n",
        "\n",
        "            sound = AudioSegment.from_mp3(mp3_path)\n",
        "            sound.export(wav_path, format='wav')\n",
        "\n",
        "            download_url = f'/download/{wav_filename}'\n",
        "\n",
        "    return render_template_string(HTML_PAGE, download_url=download_url)\n",
        "\n",
        "@app.route('/download/<filename>')\n",
        "def download_file(filename):\n",
        "    return send_file(os.path.join(CONVERTED_FOLDER, filename), as_attachment=True)\n",
        "\n",
        "# 🔥 여기서 서버 실행\n",
        "def start_ngrok():\n",
        "    public_url = ngrok.connect(5000)\n",
        "    print(f\"🔗 외부 접속 링크: {public_url}\")\n",
        "    app.run(port=5000)\n",
        "\n",
        "start_ngrok()\n"
      ],
      "metadata": {
        "colab": {
          "base_uri": "https://localhost:8080/"
        },
        "id": "umK0QrP5OBSv",
        "outputId": "4e759511-6063-4816-9465-5eee0fb5dde0"
      },
      "execution_count": 6,
      "outputs": [
        {
          "output_type": "stream",
          "name": "stdout",
          "text": [
            "Requirement already satisfied: flask in /usr/local/lib/python3.11/dist-packages (3.1.0)\n",
            "Requirement already satisfied: pyngrok in /usr/local/lib/python3.11/dist-packages (7.2.4)\n",
            "Requirement already satisfied: pydub in /usr/local/lib/python3.11/dist-packages (0.25.1)\n",
            "Requirement already satisfied: Werkzeug>=3.1 in /usr/local/lib/python3.11/dist-packages (from flask) (3.1.3)\n",
            "Requirement already satisfied: Jinja2>=3.1.2 in /usr/local/lib/python3.11/dist-packages (from flask) (3.1.6)\n",
            "Requirement already satisfied: itsdangerous>=2.2 in /usr/local/lib/python3.11/dist-packages (from flask) (2.2.0)\n",
            "Requirement already satisfied: click>=8.1.3 in /usr/local/lib/python3.11/dist-packages (from flask) (8.1.8)\n",
            "Requirement already satisfied: blinker>=1.9 in /usr/local/lib/python3.11/dist-packages (from flask) (1.9.0)\n",
            "Requirement already satisfied: PyYAML>=5.1 in /usr/local/lib/python3.11/dist-packages (from pyngrok) (6.0.2)\n",
            "Requirement already satisfied: MarkupSafe>=2.0 in /usr/local/lib/python3.11/dist-packages (from Jinja2>=3.1.2->flask) (3.0.2)\n",
            "🔗 외부 접속 링크: NgrokTunnel: \"https://571e-104-196-154-202.ngrok-free.app\" -> \"http://localhost:5000\"\n",
            " * Serving Flask app '__main__'\n",
            " * Debug mode: off\n"
          ]
        },
        {
          "output_type": "stream",
          "name": "stderr",
          "text": [
            "INFO:werkzeug:\u001b[31m\u001b[1mWARNING: This is a development server. Do not use it in a production deployment. Use a production WSGI server instead.\u001b[0m\n",
            " * Running on http://127.0.0.1:5000\n",
            "INFO:werkzeug:\u001b[33mPress CTRL+C to quit\u001b[0m\n",
            "INFO:werkzeug:127.0.0.1 - - [20/Apr/2025 08:16:46] \"GET / HTTP/1.1\" 200 -\n",
            "INFO:werkzeug:127.0.0.1 - - [20/Apr/2025 08:16:47] \"\u001b[33mGET /favicon.ico HTTP/1.1\u001b[0m\" 404 -\n",
            "INFO:werkzeug:127.0.0.1 - - [20/Apr/2025 08:17:09] \"POST / HTTP/1.1\" 200 -\n",
            "INFO:werkzeug:127.0.0.1 - - [20/Apr/2025 08:17:12] \"GET /download/L1_Listen_and_Talk_A1.wav HTTP/1.1\" 200 -\n"
          ]
        }
      ]
    },
    {
      "cell_type": "code",
      "source": [
        "!pip install flask pyngrok pydub\n",
        "import os\n",
        "from flask import Flask, request, send_file, render_template_string\n",
        "from werkzeug.utils import secure_filename\n",
        "from pydub import AudioSegment\n",
        "from pyngrok import ngrok\n",
        "import zipfile\n",
        "\n",
        "UPLOAD_FOLDER = '/content/uploads'\n",
        "CONVERTED_FOLDER = '/content/converted'\n",
        "ZIP_FILE = '/content/converted_wav_files.zip'\n",
        "\n",
        "os.makedirs(UPLOAD_FOLDER, exist_ok=True)\n",
        "os.makedirs(CONVERTED_FOLDER, exist_ok=True)\n",
        "\n",
        "app = Flask(__name__)\n",
        "app.config['UPLOAD_FOLDER'] = UPLOAD_FOLDER\n",
        "app.config['CONVERTED_FOLDER'] = CONVERTED_FOLDER\n",
        "\n",
        "HTML_PAGE = '''\n",
        "<!doctype html>\n",
        "<title>MP3 → WAV 일괄 변환기</title>\n",
        "<h1>여러 MP3 파일 업로드해서 WAV로 일괄 변환</h1>\n",
        "<form method=post enctype=multipart/form-data>\n",
        "  <input type=file name=files multiple accept=\".mp3\">\n",
        "  <input type=submit value=\"변환 시작\">\n",
        "</form>\n",
        "{% if converted %}\n",
        "  <h2>✅ 변환 완료!</h2>\n",
        "  <ul>\n",
        "    {% for file in converted %}\n",
        "      <li><a href=\"/download/{{file}}\">{{file}}</a></li>\n",
        "    {% endfor %}\n",
        "  </ul>\n",
        "  <p><a href=\"/download_zip\">📦 ZIP으로 모두 다운로드</a></p>\n",
        "{% endif %}\n",
        "'''\n",
        "\n",
        "@app.route('/', methods=['GET', 'POST'])\n",
        "def upload_files():\n",
        "    converted = []\n",
        "    if request.method == 'POST':\n",
        "        files = request.files.getlist('files')\n",
        "        for file in files:\n",
        "            if file and file.filename.endswith('.mp3'):\n",
        "                filename = secure_filename(file.filename)\n",
        "                mp3_path = os.path.join(UPLOAD_FOLDER, filename)\n",
        "                file.save(mp3_path)\n",
        "\n",
        "                wav_filename = filename.rsplit('.', 1)[0] + '.wav'\n",
        "                wav_path = os.path.join(CONVERTED_FOLDER, wav_filename)\n",
        "\n",
        "                sound = AudioSegment.from_mp3(mp3_path)\n",
        "                sound.export(wav_path, format='wav')\n",
        "                converted.append(wav_filename)\n",
        "\n",
        "        # ZIP으로 묶기\n",
        "        with zipfile.ZipFile(ZIP_FILE, 'w') as zipf:\n",
        "            for fname in converted:\n",
        "                zipf.write(os.path.join(CONVERTED_FOLDER, fname), fname)\n",
        "\n",
        "    return render_template_string(HTML_PAGE, converted=converted)\n",
        "\n",
        "@app.route('/download/<filename>')\n",
        "def download_file(filename):\n",
        "    return send_file(os.path.join(CONVERTED_FOLDER, filename), as_attachment=True)\n",
        "\n",
        "@app.route('/download_zip')\n",
        "def download_zip():\n",
        "    return send_file(ZIP_FILE, as_attachment=True)\n",
        "\n",
        "# Ngrok으로 공개 링크 열기\n",
        "from pyngrok import conf\n",
        "conf.get_default().auth_token = \"2vz7xgsxr8R7cjjhwBJ5aMnbSKn_6TtcyZ6mTocxtgmR2vFe2\"\n",
        "\n",
        "public_url = ngrok.connect(5000)\n",
        "print(f\"🔗 외부 접속 링크: {public_url}\")\n",
        "app.run(port=5000)\n"
      ],
      "metadata": {
        "colab": {
          "base_uri": "https://localhost:8080/"
        },
        "id": "Ds_OidRwR6j4",
        "outputId": "70fa64ed-0e6a-44d9-8460-8889a3d69dae"
      },
      "execution_count": 8,
      "outputs": [
        {
          "output_type": "stream",
          "name": "stdout",
          "text": [
            "Requirement already satisfied: flask in /usr/local/lib/python3.11/dist-packages (3.1.0)\n",
            "Requirement already satisfied: pyngrok in /usr/local/lib/python3.11/dist-packages (7.2.4)\n",
            "Requirement already satisfied: pydub in /usr/local/lib/python3.11/dist-packages (0.25.1)\n",
            "Requirement already satisfied: Werkzeug>=3.1 in /usr/local/lib/python3.11/dist-packages (from flask) (3.1.3)\n",
            "Requirement already satisfied: Jinja2>=3.1.2 in /usr/local/lib/python3.11/dist-packages (from flask) (3.1.6)\n",
            "Requirement already satisfied: itsdangerous>=2.2 in /usr/local/lib/python3.11/dist-packages (from flask) (2.2.0)\n",
            "Requirement already satisfied: click>=8.1.3 in /usr/local/lib/python3.11/dist-packages (from flask) (8.1.8)\n",
            "Requirement already satisfied: blinker>=1.9 in /usr/local/lib/python3.11/dist-packages (from flask) (1.9.0)\n",
            "Requirement already satisfied: PyYAML>=5.1 in /usr/local/lib/python3.11/dist-packages (from pyngrok) (6.0.2)\n",
            "Requirement already satisfied: MarkupSafe>=2.0 in /usr/local/lib/python3.11/dist-packages (from Jinja2>=3.1.2->flask) (3.0.2)\n",
            "🔗 외부 접속 링크: NgrokTunnel: \"https://df98-104-196-154-202.ngrok-free.app\" -> \"http://localhost:5000\"\n",
            " * Serving Flask app '__main__'\n",
            " * Debug mode: off\n"
          ]
        },
        {
          "output_type": "stream",
          "name": "stderr",
          "text": [
            "INFO:werkzeug:\u001b[31m\u001b[1mWARNING: This is a development server. Do not use it in a production deployment. Use a production WSGI server instead.\u001b[0m\n",
            " * Running on http://127.0.0.1:5000\n",
            "INFO:werkzeug:\u001b[33mPress CTRL+C to quit\u001b[0m\n",
            "WARNING:pyngrok.process.ngrok:t=2025-04-20T08:20:10+0000 lvl=warn msg=\"failed to check for update\" obj=updater err=\"Post \\\"https://update.equinox.io/check\\\": context deadline exceeded\"\n",
            "INFO:werkzeug:127.0.0.1 - - [20/Apr/2025 08:20:25] \"GET / HTTP/1.1\" 200 -\n",
            "INFO:werkzeug:127.0.0.1 - - [20/Apr/2025 08:20:25] \"\u001b[33mGET /favicon.ico HTTP/1.1\u001b[0m\" 404 -\n",
            "INFO:werkzeug:127.0.0.1 - - [20/Apr/2025 08:20:41] \"POST / HTTP/1.1\" 200 -\n",
            "INFO:werkzeug:127.0.0.1 - - [20/Apr/2025 08:20:45] \"GET /download_zip HTTP/1.1\" 200 -\n"
          ]
        }
      ]
    },
    {
      "cell_type": "code",
      "source": [
        "from pyngrok import conf, ngrok\n",
        "\n",
        "# 여기에 너의 Ngrok 토큰을 붙여넣기!\n",
        "conf.get_default().auth_token = \"2vz7xgsxr8R7cjjhwBJ5aMnbSKn_6TtcyZ6mTocxtgmR2vFe2\"\n"
      ],
      "metadata": {
        "id": "-MewcCcsQ-ll"
      },
      "execution_count": 5,
      "outputs": []
    }
  ]
}